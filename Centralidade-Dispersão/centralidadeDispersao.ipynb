{
 "cells": [
  {
   "cell_type": "markdown",
   "id": "bd5b7597",
   "metadata": {},
   "source": [
    "Centralidade e Dispersão"
   ]
  },
  {
   "cell_type": "markdown",
   "id": "f7bd76cb",
   "metadata": {},
   "source": [
    "Equipe: Carlos Machado, Diego Henrique, João Ricardo, José Victor, Matheus William e Pedro Augusto"
   ]
  },
  {
   "cell_type": "markdown",
   "id": "cdb06681",
   "metadata": {},
   "source": [
    "Imports"
   ]
  },
  {
   "cell_type": "code",
   "execution_count": null,
   "id": "213a26a0",
   "metadata": {},
   "outputs": [],
   "source": [
    "import kagglehub\n",
    "from kagglehub import KaggleDatasetAdapter\n",
    "\n",
    "import matplotlib.pyplot as plt"
   ]
  },
  {
   "cell_type": "markdown",
   "id": "be2e49ff",
   "metadata": {},
   "source": [
    "1 - Importação do Dataset"
   ]
  },
  {
   "cell_type": "code",
   "execution_count": null,
   "id": "6acb4aaa",
   "metadata": {},
   "outputs": [],
   "source": [
    "# Install dependencies as needed:\n",
    "# pip install kagglehub[pandas-datasets]\n",
    "\n",
    "# Set the path to the file you'd like to load\n",
    "file_path = \"ai_assistant_usage_student_life.csv\"\n",
    "\n",
    "# Load the latest version\n",
    "df = kagglehub.load_dataset(\n",
    "  KaggleDatasetAdapter.PANDAS,\n",
    "  \"ayeshasal89/ai-assistant-usage-in-student-life-synthetic\",\n",
    "  file_path,\n",
    "  # Provide any additional arguments like \n",
    "  # sql_query or pandas_kwargs. See the \n",
    "  # documenation for more information:\n",
    "  # https://github.com/Kaggle/kagglehub/blob/main/README.md#kaggledatasetadapterpandas\n",
    ")\n",
    "\n",
    "print(\"First 5 records:\", df.head())"
   ]
  },
  {
   "cell_type": "markdown",
   "id": "802aa48e",
   "metadata": {},
   "source": [
    "2 - Histograma de Barras"
   ]
  },
  {
   "cell_type": "code",
   "execution_count": null,
   "id": "4f6e18b4",
   "metadata": {},
   "outputs": [],
   "source": [
    "# Plot a histogram of the SatisfactionRating column\n",
    "plt.figure(figsize=(8, 5))\n",
    "plt.hist(df[\"SatisfactionRating\"], bins=20, edgecolor='black')\n",
    "plt.title(\"Distribuição da SatisfactionRating\")\n",
    "plt.xlabel(\"SatisfactionRating\")\n",
    "plt.ylabel(\"Frequência\")\n",
    "plt.show()"
   ]
  },
  {
   "cell_type": "markdown",
   "id": "d1badb36",
   "metadata": {},
   "source": [
    "3 - Curva de Densidade de Dados "
   ]
  },
  {
   "cell_type": "code",
   "execution_count": null,
   "id": "2294da22",
   "metadata": {},
   "outputs": [],
   "source": [
    "# Curva de densidade para a coluna SatisfactionRating\n",
    "plt.figure(figsize=(8, 5))\n",
    "df[\"SatisfactionRating\"].plot(kind='density')\n",
    "plt.title(\"Curva de Densidade - SatisfactionRating\")\n",
    "plt.xlabel(\"SatisfactionRating\")\n",
    "plt.ylabel(\"Densidade\")\n",
    "plt.show()"
   ]
  },
  {
   "cell_type": "markdown",
   "id": "bc75724c",
   "metadata": {},
   "source": [
    "4 - Boxplot com bigode apresentando outliers"
   ]
  },
  {
   "cell_type": "code",
   "execution_count": null,
   "id": "eae738a7",
   "metadata": {},
   "outputs": [],
   "source": [
    "plt.figure(figsize=(8, 5))\n",
    "plt.boxplot(df[\"SessionLengthMin\"], vert=True, patch_artist=True, showfliers=True)\n",
    "plt.title(\"Boxplot - SessionLengthMin (com outliers)\")\n",
    "plt.ylabel(\"SessionLengthMin\")\n",
    "plt.show()"
   ]
  },
  {
   "cell_type": "markdown",
   "id": "bbaf9e8b",
   "metadata": {},
   "source": [
    "5 - Boxplot com bigode sem apresentar outliers"
   ]
  },
  {
   "cell_type": "code",
   "execution_count": null,
   "id": "db71b3f7",
   "metadata": {},
   "outputs": [],
   "source": [
    "plt.figure(figsize=(8, 5))\n",
    "plt.boxplot(df[\"SessionLengthMin\"], vert=True, patch_artist=True, showfliers=False)\n",
    "plt.title(\"Boxplot - SessionLengthMin (sem outliers)\")\n",
    "plt.ylabel(\"SessionLengthMin\")\n",
    "plt.show()"
   ]
  }
 ],
 "metadata": {
  "kernelspec": {
   "display_name": "Python 3",
   "language": "python",
   "name": "python3"
  },
  "language_info": {
   "codemirror_mode": {
    "name": "ipython",
    "version": 3
   },
   "file_extension": ".py",
   "mimetype": "text/x-python",
   "name": "python",
   "nbconvert_exporter": "python",
   "pygments_lexer": "ipython3",
   "version": "3.13.0"
  }
 },
 "nbformat": 4,
 "nbformat_minor": 5
}
